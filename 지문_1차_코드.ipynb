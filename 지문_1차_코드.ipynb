{
  "nbformat": 4,
  "nbformat_minor": 0,
  "metadata": {
    "colab": {
      "name": "지문인식1차.ipynb",
      "private_outputs": true,
      "provenance": [],
      "collapsed_sections": []
    },
    "kernelspec": {
      "name": "python3",
      "display_name": "Python 3"
    },
    "language_info": {
      "name": "python"
    }
  },
  "cells": [
    {
      "cell_type": "code",
      "metadata": {
        "id": "RmFhG-iPmnpg"
      },
      "source": [
        "from google.colab import drive\n",
        "drive.mount('/content/drive') "
      ],
      "execution_count": null,
      "outputs": []
    },
    {
      "cell_type": "code",
      "metadata": {
        "id": "jeRH-ClRFcI6"
      },
      "source": [
        "import tensorflow as tf\n",
        "import numpy as np\n",
        "from keras.models import Sequential\n",
        "from keras.layers import Convolution2D, Dropout, Dense\n",
        "from keras.layers import BatchNormalization\n",
        "from keras.layers import MaxPooling2D\n",
        "from keras.layers import Flatten\n",
        "from keras.optimizers import Adam\n",
        "from keras.optimizers import SGD\n",
        "from keras.layers import LeakyReLU\n",
        "from keras.preprocessing.image import ImageDataGenerator\n",
        "from numpy import asarray\n",
        "from sklearn.model_selection import train_test_split\n",
        "from sklearn.metrics import recall_score \n",
        "from sklearn.metrics import precision_score \n",
        "from sklearn.metrics import f1_score \n",
        "\n",
        "# from zipfile import ZipFile\n",
        "# import os,glob\n",
        "# from skimage.io import imread\n",
        "# from skimage.transform import resize \n",
        "# import matplotlib.pyplot as plt\n",
        "# import random\n",
        "# import warnings\n",
        "# from scipy import ndarray\n",
        "# import skimage as sk\n",
        "# from skimage import transform\n",
        "# from skimage import util\n",
        "# from skimage import io\n",
        "# from sklearn import metrics\n",
        "# from tqdm._tqdm_notebook import tqdm_notebook as tqdm"
      ],
      "execution_count": null,
      "outputs": []
    },
    {
      "cell_type": "code",
      "metadata": {
        "id": "ORsjEQTvyB6y"
      },
      "source": [
        "# import numpy as np\n",
        "# import matplotlib.pyplot as plt\n",
        "# import keras\n",
        "# from keras import layers\n",
        "# from keras.models import Model\n",
        "# from sklearn.utils import shuffle\n",
        "# from sklearn.model_selection import train_test_split\n",
        "# from imgaug import augmenters as iaa\n",
        "# import random\n",
        "\n",
        "# from keras.models import Sequential\n",
        "# from keras.layers import Dense, Activation"
      ],
      "execution_count": null,
      "outputs": []
    },
    {
      "cell_type": "code",
      "metadata": {
        "id": "MdabouymnHsw"
      },
      "source": [
        "# from keras.preprocessing.image import ImageDataGenerator\n",
        "\n",
        "data_generator = ImageDataGenerator(rescale=1./255)\n",
        "train_generator=data_generator.flow_from_directory(\n",
        "\t'/content/drive/MyDrive/생체인증보안/01_finger_training',\n",
        "\ttarget_size=(128,128),\n",
        "\tbatch_size=80,\n",
        "\tclass_mode='categorical')\n",
        "\n",
        "x_data, y_data = train_generator.next()\n",
        "print(x_data.shape, y_data.shape)"
      ],
      "execution_count": null,
      "outputs": []
    },
    {
      "cell_type": "code",
      "metadata": {
        "id": "yOhdk14jOeBP"
      },
      "source": [
        "# augs = [x_data[79]] * 9\n",
        "\n",
        "# seq1 = iaa.Sequential([\n",
        "#     iaa.Affine(\n",
        "#         scale={\"x\": (1.5, 1.5), \"y\": (1.5, 1.5)},\n",
        "#     )\n",
        "# ], random_order=True)\n",
        "\n",
        "# seq2 = iaa.Sequential([\n",
        "#     # blur images with a sigma of 0 to 0.5\n",
        "#     iaa.GaussianBlur(sigma=(0, 0.5)),\n",
        "#     iaa.Affine(\n",
        "#         # scale images to 90-110% of their size, individually per axis\n",
        "#         scale={\"x\": (0.9, 1.1), \"y\": (0.9, 1.1)},\n",
        "#         # translate by -10 to +10 percent (per axis)\n",
        "#         translate_percent={\"x\": (-0.1, 0.1), \"y\": (-0.1, 0.1)},\n",
        "#         # rotate by -30 to +30 degrees\n",
        "#         rotate=(-30, 30),\n",
        "#         # use nearest neighbour or bilinear interpolation (fast)\n",
        "#         order=[0, 1],\n",
        "#         # if mode is constant, use a cval between 0 and 255\n",
        "#         cval=255\n",
        "#     )\n",
        "# ], random_order=True)\n",
        "\n",
        "# x1_batch = seq1.augment_images(x_test)\n",
        "# x1_batch = seq2.augment_images(x_test)\n",
        "\n",
        "# augs = seq1.augment_images(augs)\n",
        "# augs = seq2.augment_images(augs)\n",
        "\n",
        "# plt.figure(figsize=(16, 6))\n",
        "# plt.subplot(2, 5, 1)\n",
        "# plt.title('original')\n",
        "# plt.imshow(x_data[0].squeeze(), cmap='gray')\n",
        "# for i, aug in enumerate(augs):\n",
        "#     plt.subplot(2, 5, i+2)\n",
        "#     plt.title('aug %02d' % int(i+1))\n",
        "#     plt.imshow(aug.squeeze(), cmap='gray')"
      ],
      "execution_count": null,
      "outputs": []
    },
    {
      "cell_type": "code",
      "metadata": {
        "id": "zs93W_0UrsLy"
      },
      "source": [
        "x_train, x_test, y_train, y_test = train_test_split(x_data,y_data,test_size=0.2,shuffle=True,random_state=1000)\n",
        "\n",
        "print(x_train.shape, x_test.shape)\n",
        "print(y_train.shape, y_test.shape)\n"
      ],
      "execution_count": null,
      "outputs": []
    },
    {
      "cell_type": "code",
      "metadata": {
        "id": "ZsjHcTe4ERdk"
      },
      "source": [
        "m1=Sequential()\n",
        "m1.add(BatchNormalization(input_shape = (128,128,3)))\n",
        "m1.add(Convolution2D(32, (3,3), activation ='relu', input_shape = (128, 128, 3))) \n",
        "m1.add(MaxPooling2D(pool_size=2))\n",
        "m1.add(Convolution2D(filters=6,kernel_size=4,padding='same',activation='relu'))\n",
        "m1.add(MaxPooling2D(pool_size=2))\n",
        "m1.add(Convolution2D(filters=128,kernel_size=3,padding='same',activation='relu'))\n",
        "m1.add(MaxPooling2D(pool_size=2))\n",
        "m1.add(Convolution2D(filters=128,kernel_size=2,padding='same',activation='relu'))\n",
        "m1.add(MaxPooling2D(pool_size=2))\n",
        "m1.add(Flatten()) \n",
        "m1.add(Dense(units=128,activation = 'relu'))\n",
        "m1.add(Dense(units = 64, activation = 'relu'))\n",
        "m1.add(Dense(units = 32, activation = 'relu'))\n",
        "m1.add(Dense(units = 8, activation = 'softmax'))\n",
        "\n",
        "m1.compile(optimizer='adam', loss = 'categorical_crossentropy',metrics = ['accuracy'])\n",
        "\n",
        "model = m1.fit(x_train,y_train,epochs=60,validation_data=(x_test,y_test),verbose = 1, initial_epoch=0)"
      ],
      "execution_count": null,
      "outputs": []
    },
    {
      "cell_type": "code",
      "metadata": {
        "id": "7qn6xM3NGDDJ"
      },
      "source": [
        "loss_and_metrics = m1.evaluate(x_test,y_test)\n",
        "\n",
        "print(loss_and_metrics)"
      ],
      "execution_count": null,
      "outputs": []
    },
    {
      "cell_type": "code",
      "metadata": {
        "id": "Mrn3ZoMCI_Jx"
      },
      "source": [
        "data_generator = ImageDataGenerator(rescale=1./255)\n",
        "train_generator=data_generator.flow_from_directory(\n",
        "\t'/content/drive/MyDrive/생체인증보안/01_finger_test',\n",
        "\ttarget_size=(128,128),\n",
        "\tbatch_size=80,\n",
        "\tclass_mode='categorical')\n",
        "x_testset, y_testset = train_generator.next()\n",
        "\n",
        "# print(x_testset[0])\n",
        "\n",
        "predicted = m1.predict(x_testset, batch_size=80)\n",
        "predicted = np.argmax(np.round(predicted),axis=1)\n",
        "print(\"Prediction :\",predicted)\n"
      ],
      "execution_count": null,
      "outputs": []
    },
    {
      "cell_type": "code",
      "metadata": {
        "id": "ExOyWeDA9ftH"
      },
      "source": [
        ""
      ],
      "execution_count": null,
      "outputs": []
    }
  ]
}